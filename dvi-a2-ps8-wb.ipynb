{
 "cells": [
  {
   "cell_type": "markdown",
   "metadata": {
    "id": "afne2q8Jldv9"
   },
   "source": [
    "<img src = \"https://www.bits-pilani.ac.in/Uploads/Campus/BITS_university_logo.gif\">"
   ]
  },
  {
   "cell_type": "markdown",
   "metadata": {
    "id": "1xWUC9udldwe"
   },
   "source": [
    "<h1><center>Work Integrated Learning Programmes Division<br>\n",
    "M.Tech (Data Science and Engineering)<br> Data Visualization And Interpretation (DSECL ZG555))<br>\n",
    "Second Semester, 2021-22\n",
    "</center></h1>\n",
    "\n",
    "<h2><center>Assignment 2 – PS8 [Weightage 13%]</center></h2>"
   ]
  },
  {
   "cell_type": "markdown",
   "metadata": {
    "id": "6FJyEhOKldwg"
   },
   "source": [
    "<ol>\n",
    "  <li>Do not change the name of the data file that is shared with the problem statement.</li>\n",
    "  <li>If intermediate data files are created, retain in the present working directory and attach them during submission.</li>\n",
    "  <li>Retain the data file in the same directory as that of this workbook.</li>\n",
    "  <li>Retain the Visualizations that is produced in the file. Don't clear them away.</li>\n",
    "     <li><div class=\"alert-warning\">All the visuals should adhere to the visualization principles learnt in the Course and must be presentation ready. Most effective visuals would fetch maximum credits</div></li>    \n",
    "    <li><div class=\"alert-warning\">Submissions done via means other than CANVAS will strictly be NOT graded.</div></li>\n",
    "</ol>"
   ]
  },
  {
   "cell_type": "markdown",
   "metadata": {
    "id": "WLfGBY_Gldwh"
   },
   "source": [
    "<style>\n",
    "table {\n",
    "  font-family: arial, sans-serif;\n",
    "  border-collapse: collapse;\n",
    "  width: 100%;\n",
    "}\n",
    "\n",
    "td, th {\n",
    "  border: 1px solid #dddddd;\n",
    "  text-align: left;\n",
    "  padding: 8px;\n",
    "}\n",
    "\n",
    "tr:nth-child(even) {\n",
    "  background-color: #dddddd;\n",
    "}\n",
    "</style>\n",
    "\n",
    "<h2>Group No: (mention your group number here)</h2>\n",
    "\n",
    "<table>\n",
    "  <tr>\n",
    "    <th>Full Name</th>\n",
    "    <th>BITS ID</th>\n",
    "  </tr>\n",
    "  <tr>\n",
    "    <td>Name 1</td>\n",
    "    <td>BITS ID 1</td>\n",
    "  </tr>\n",
    "  <tr>\n",
    "    <td>Name 2</td>\n",
    "    <td>BITS ID 2</td>\n",
    "  </tr>\n",
    "  <tr>\n",
    "    <td>Name 3</td>\n",
    "    <td>BITS ID 3</td>\n",
    "  </tr>\n",
    "</table>"
   ]
  },
  {
   "cell_type": "markdown",
   "metadata": {
    "id": "btC8M3lnoUC9"
   },
   "source": [
    "<h3>Objective</h3>\n",
    "<h4>Identify the features which have high impact on attrition</h4>"
   ]
  },
  {
   "cell_type": "markdown",
   "metadata": {
    "id": "JXM36L3Bldwi"
   },
   "source": [
    "##  Download and Prep the Data: 1 Mark"
   ]
  },
  {
   "cell_type": "markdown",
   "metadata": {
    "id": "U6fcufFgdSJS"
   },
   "source": [
    "Import the modules needed"
   ]
  },
  {
   "cell_type": "code",
   "execution_count": 2,
   "metadata": {
    "id": "buRWPugAxqCI"
   },
   "outputs": [],
   "source": [
    "import pandas as pd\n",
    "import numpy as np"
   ]
  },
  {
   "cell_type": "markdown",
   "metadata": {
    "id": "A3qzP0srdSJe"
   },
   "source": [
    "Download the dataset and read it into a dataframe"
   ]
  },
  {
   "cell_type": "code",
   "execution_count": 3,
   "metadata": {
    "id": "hBojtNk7xqrP"
   },
   "outputs": [],
   "source": [
    "df = pd.read_csv('dvi-a2-ps8-data.csv')"
   ]
  },
  {
   "cell_type": "markdown",
   "metadata": {
    "id": "TfgXC25ndSJs"
   },
   "source": [
    "First five items in the dataset."
   ]
  },
  {
   "cell_type": "code",
   "execution_count": 4,
   "metadata": {
    "id": "hP4LBjwcxrKG"
   },
   "outputs": [
    {
     "data": {
      "text/html": [
       "<div>\n",
       "<style scoped>\n",
       "    .dataframe tbody tr th:only-of-type {\n",
       "        vertical-align: middle;\n",
       "    }\n",
       "\n",
       "    .dataframe tbody tr th {\n",
       "        vertical-align: top;\n",
       "    }\n",
       "\n",
       "    .dataframe thead th {\n",
       "        text-align: right;\n",
       "    }\n",
       "</style>\n",
       "<table border=\"1\" class=\"dataframe\">\n",
       "  <thead>\n",
       "    <tr style=\"text-align: right;\">\n",
       "      <th></th>\n",
       "      <th>Age</th>\n",
       "      <th>Attrition</th>\n",
       "      <th>BusinessTravel</th>\n",
       "      <th>DailyRate</th>\n",
       "      <th>Department</th>\n",
       "      <th>DistanceFromHome</th>\n",
       "      <th>Education</th>\n",
       "      <th>EducationField</th>\n",
       "      <th>EmployeeNumber</th>\n",
       "      <th>Gender</th>\n",
       "      <th>...</th>\n",
       "      <th>MonthlyIncome</th>\n",
       "      <th>NumCompaniesWorked</th>\n",
       "      <th>OverTime</th>\n",
       "      <th>PercentSalaryHike</th>\n",
       "      <th>PerformanceRating</th>\n",
       "      <th>StandardHours</th>\n",
       "      <th>TotalWorkingYears</th>\n",
       "      <th>YearsAtCompany</th>\n",
       "      <th>YearsInCurrentRole</th>\n",
       "      <th>YearsWithCurrManager</th>\n",
       "    </tr>\n",
       "  </thead>\n",
       "  <tbody>\n",
       "    <tr>\n",
       "      <th>0</th>\n",
       "      <td>41</td>\n",
       "      <td>Yes</td>\n",
       "      <td>Travel_Rarely</td>\n",
       "      <td>1102</td>\n",
       "      <td>Sales</td>\n",
       "      <td>1</td>\n",
       "      <td>College</td>\n",
       "      <td>Life Sciences</td>\n",
       "      <td>1</td>\n",
       "      <td>Female</td>\n",
       "      <td>...</td>\n",
       "      <td>5993</td>\n",
       "      <td>8</td>\n",
       "      <td>Yes</td>\n",
       "      <td>11</td>\n",
       "      <td>Excellent</td>\n",
       "      <td>80</td>\n",
       "      <td>8</td>\n",
       "      <td>6</td>\n",
       "      <td>4</td>\n",
       "      <td>5</td>\n",
       "    </tr>\n",
       "    <tr>\n",
       "      <th>1</th>\n",
       "      <td>49</td>\n",
       "      <td>No</td>\n",
       "      <td>Travel_Frequently</td>\n",
       "      <td>279</td>\n",
       "      <td>Research &amp; Development</td>\n",
       "      <td>8</td>\n",
       "      <td>Below College</td>\n",
       "      <td>Life Sciences</td>\n",
       "      <td>2</td>\n",
       "      <td>Male</td>\n",
       "      <td>...</td>\n",
       "      <td>5130</td>\n",
       "      <td>1</td>\n",
       "      <td>No</td>\n",
       "      <td>23</td>\n",
       "      <td>Outstanding</td>\n",
       "      <td>80</td>\n",
       "      <td>10</td>\n",
       "      <td>10</td>\n",
       "      <td>7</td>\n",
       "      <td>7</td>\n",
       "    </tr>\n",
       "    <tr>\n",
       "      <th>2</th>\n",
       "      <td>37</td>\n",
       "      <td>Yes</td>\n",
       "      <td>Travel_Rarely</td>\n",
       "      <td>1373</td>\n",
       "      <td>Research &amp; Development</td>\n",
       "      <td>2</td>\n",
       "      <td>College</td>\n",
       "      <td>Other</td>\n",
       "      <td>4</td>\n",
       "      <td>Male</td>\n",
       "      <td>...</td>\n",
       "      <td>2090</td>\n",
       "      <td>6</td>\n",
       "      <td>Yes</td>\n",
       "      <td>15</td>\n",
       "      <td>Excellent</td>\n",
       "      <td>80</td>\n",
       "      <td>7</td>\n",
       "      <td>0</td>\n",
       "      <td>0</td>\n",
       "      <td>0</td>\n",
       "    </tr>\n",
       "    <tr>\n",
       "      <th>3</th>\n",
       "      <td>33</td>\n",
       "      <td>No</td>\n",
       "      <td>Travel_Frequently</td>\n",
       "      <td>1392</td>\n",
       "      <td>Research &amp; Development</td>\n",
       "      <td>3</td>\n",
       "      <td>Master</td>\n",
       "      <td>Life Sciences</td>\n",
       "      <td>5</td>\n",
       "      <td>Female</td>\n",
       "      <td>...</td>\n",
       "      <td>2909</td>\n",
       "      <td>1</td>\n",
       "      <td>Yes</td>\n",
       "      <td>11</td>\n",
       "      <td>Excellent</td>\n",
       "      <td>80</td>\n",
       "      <td>8</td>\n",
       "      <td>8</td>\n",
       "      <td>7</td>\n",
       "      <td>0</td>\n",
       "    </tr>\n",
       "    <tr>\n",
       "      <th>4</th>\n",
       "      <td>27</td>\n",
       "      <td>No</td>\n",
       "      <td>Travel_Rarely</td>\n",
       "      <td>591</td>\n",
       "      <td>Research &amp; Development</td>\n",
       "      <td>2</td>\n",
       "      <td>Below College</td>\n",
       "      <td>Medical</td>\n",
       "      <td>7</td>\n",
       "      <td>Male</td>\n",
       "      <td>...</td>\n",
       "      <td>3468</td>\n",
       "      <td>9</td>\n",
       "      <td>No</td>\n",
       "      <td>12</td>\n",
       "      <td>Excellent</td>\n",
       "      <td>80</td>\n",
       "      <td>6</td>\n",
       "      <td>2</td>\n",
       "      <td>2</td>\n",
       "      <td>2</td>\n",
       "    </tr>\n",
       "  </tbody>\n",
       "</table>\n",
       "<p>5 rows × 23 columns</p>\n",
       "</div>"
      ],
      "text/plain": [
       "   Age Attrition     BusinessTravel  DailyRate              Department  \\\n",
       "0   41       Yes      Travel_Rarely       1102                   Sales   \n",
       "1   49        No  Travel_Frequently        279  Research & Development   \n",
       "2   37       Yes      Travel_Rarely       1373  Research & Development   \n",
       "3   33        No  Travel_Frequently       1392  Research & Development   \n",
       "4   27        No      Travel_Rarely        591  Research & Development   \n",
       "\n",
       "   DistanceFromHome      Education EducationField  EmployeeNumber  Gender  \\\n",
       "0                 1        College  Life Sciences               1  Female   \n",
       "1                 8  Below College  Life Sciences               2    Male   \n",
       "2                 2        College          Other               4    Male   \n",
       "3                 3         Master  Life Sciences               5  Female   \n",
       "4                 2  Below College        Medical               7    Male   \n",
       "\n",
       "   ... MonthlyIncome NumCompaniesWorked OverTime  PercentSalaryHike  \\\n",
       "0  ...          5993                  8      Yes                 11   \n",
       "1  ...          5130                  1       No                 23   \n",
       "2  ...          2090                  6      Yes                 15   \n",
       "3  ...          2909                  1      Yes                 11   \n",
       "4  ...          3468                  9       No                 12   \n",
       "\n",
       "   PerformanceRating StandardHours  TotalWorkingYears YearsAtCompany  \\\n",
       "0          Excellent            80                  8              6   \n",
       "1        Outstanding            80                 10             10   \n",
       "2          Excellent            80                  7              0   \n",
       "3          Excellent            80                  8              8   \n",
       "4          Excellent            80                  6              2   \n",
       "\n",
       "   YearsInCurrentRole  YearsWithCurrManager  \n",
       "0                   4                     5  \n",
       "1                   7                     7  \n",
       "2                   0                     0  \n",
       "3                   7                     0  \n",
       "4                   2                     2  \n",
       "\n",
       "[5 rows x 23 columns]"
      ]
     },
     "execution_count": 4,
     "metadata": {},
     "output_type": "execute_result"
    }
   ],
   "source": [
    "df.head()"
   ]
  },
  {
   "cell_type": "markdown",
   "metadata": {
    "id": "jTnkoY6xdSJz"
   },
   "source": [
    "Find out how many entries there are in the dataset."
   ]
  },
  {
   "cell_type": "code",
   "execution_count": null,
   "metadata": {
    "id": "y2sLJxgexttv"
   },
   "outputs": [],
   "source": []
  },
  {
   "cell_type": "markdown",
   "metadata": {
    "id": "Lh_NVnlKdSKB"
   },
   "source": [
    "Clean up data. <br>\n",
    "Remove unnecessary columns. Mention the reasons.<br>\n",
    "Show the data."
   ]
  },
  {
   "cell_type": "code",
   "execution_count": null,
   "metadata": {
    "id": "pK1PVgdSxyj1"
   },
   "outputs": [],
   "source": []
  },
  {
   "cell_type": "code",
   "execution_count": null,
   "metadata": {
    "id": "dvdwdyJWxyUX"
   },
   "outputs": [],
   "source": []
  },
  {
   "cell_type": "code",
   "execution_count": null,
   "metadata": {
    "id": "E3crExp5xyBH"
   },
   "outputs": [],
   "source": []
  },
  {
   "cell_type": "markdown",
   "metadata": {
    "id": "sLfPLw7JdSKE"
   },
   "source": [
    "# Visualisation Questions - 2 X 5 = 10 Marks"
   ]
  },
  {
   "cell_type": "markdown",
   "metadata": {
    "id": "YiNG2vD5JWTp"
   },
   "source": [
    "### Question 1\n",
    "<h4>Find the correlation between all numerical features.<br><br>\n",
    "    Write the python code in the below cell to create appropriate visual to perform the above task.\n",
    "    <h4>Answer in markdown cells below the visual <br><br>\n",
    "        1.Summarise your findings from the visual.<br>\n",
    "            2.The reason for selecting the chart type you did <br>\n",
    "                3.Mention the pre-attentive attributes used.(atleast 2)<br>\n",
    "                    4.Mention the gestalt principles used.(atleast 2)<br>\n",
    "   "
   ]
  },
  {
   "cell_type": "code",
   "execution_count": null,
   "metadata": {
    "id": "xvK0LNQDx0vu"
   },
   "outputs": [],
   "source": []
  },
  {
   "cell_type": "markdown",
   "metadata": {
    "id": "igE2Vv5kdSKL"
   },
   "source": [
    "### Question 2\n",
    "<h4>Find the distribution of age in the dataset. Identify which age group is most prone to attrition.<br>\n",
    "\n",
    "Write the python code in the below cell to create the appropriate visual to perform the above task .\n",
    "<h4>Answer in markdown cells below the visual <br><br>\n",
    "    1.Summarise your findings from the visual.<br>\n",
    "    2.The reason for selecting the chart type you did <br>\n",
    "    3.Mention the pre-attentive attributes used.(atleast 2)<br>\n",
    "    4.Mention the gestalt principles used.(atleast 2)<br>  \n"
   ]
  },
  {
   "cell_type": "code",
   "execution_count": null,
   "metadata": {
    "id": "i-amrdFPx25_"
   },
   "outputs": [],
   "source": []
  },
  {
   "cell_type": "markdown",
   "metadata": {
    "id": "OHSTIRMrdSKO"
   },
   "source": [
    "### Question 3\n",
    "<h4>Analyse the departmentwise attrition rate.<br>\n",
    "\n",
    "Write the python code in the below cell to create the appropriate visual to perform the above task .\n",
    "<h4>Answer in markdown cells below the visual <br><br>\n",
    "    1.Summarise your findings from the visual.<br>\n",
    "    2.The reason for selecting the chart type you did <br>\n",
    "    3.Mention the pre-attentive attributes used.(atleast 2)<br>\n",
    "    4.Mention the gestalt principles used.(atleast 2)<br>  \n"
   ]
  },
  {
   "cell_type": "code",
   "execution_count": null,
   "metadata": {
    "id": "2UNGxG-4x5Dc"
   },
   "outputs": [],
   "source": []
  },
  {
   "cell_type": "markdown",
   "metadata": {
    "id": "Mab4VeuQdSKQ"
   },
   "source": [
    "### Question 4\n",
    "<h4>Identify the top 5 job roles with highest attrition rate.<br>\n",
    "\n",
    "Write the python code in the below cell to create the appropriate visual to perform the above task .\n",
    "<h4>Answer in markdown cells below the visual <br><br>\n",
    "    1.Summarise your findings from the visual.<br>\n",
    "    2.The reason for selecting the chart type you did <br>\n",
    "    3.Mention the pre-attentive attributes used.(atleast 2)<br>\n",
    "    4.Mention the gestalt principles used.(atleast 2)<br>  \n"
   ]
  },
  {
   "cell_type": "code",
   "execution_count": null,
   "metadata": {
    "id": "84pPyfQjx6w9"
   },
   "outputs": [],
   "source": []
  },
  {
   "cell_type": "markdown",
   "metadata": {
    "id": "z15B_xDbdSKS"
   },
   "source": [
    "### Question 5\n",
    "<h3> Multivariate analysis\n",
    "<h4>Identify the top 2 highly correlated features.Analyse(use a single visual), how they relate to \"number of years in the company\" and their combined effect on attrition.<br>\n",
    "    \n",
    "Write the python code in the below cell to create the appropriate visual to perform the above task .\n",
    "<h4>Answer in markdown cells below the visual <br><br>\n",
    "    1.Summarise your findings from the visual.<br>\n",
    "    2.The reason for selecting the chart type you did <br>\n",
    "    3.Mention the pre-attentive attributes used.(atleast 2)<br>\n",
    "    4.Mention the gestalt principles used.(atleast 2)<br>  "
   ]
  },
  {
   "cell_type": "code",
   "execution_count": null,
   "metadata": {
    "id": "zQWH46kRx-lc"
   },
   "outputs": [],
   "source": []
  },
  {
   "cell_type": "markdown",
   "metadata": {
    "id": "U1e-dH8lJWT1"
   },
   "source": [
    "# Group's choice-2 Marks\n",
    " \n",
    "#### Frame 1 (more) question which will help in the EDA(Exploratory Data Analysis) of the given data set and answer the same using the best visual.\n",
    " \n",
    " 1. Write the question in a markdown cell\n",
    " 2. Below the question,in a coding cell,write the python code to create the visual to answer the question  \n",
    "\n",
    "<h4> Answer in markdown cells below the visual <br><br>\n",
    "   1.Summarise your findings from the visual.<br>\n",
    "   2.The reason for selecting the chart type you did <br>\n",
    "   3.Mention the pre-attentive attributes used.(atleast 2)<br>\n",
    "   4.Mention the gestalt principles used.(atleast 2)<br>\n",
    "  "
   ]
  },
  {
   "cell_type": "code",
   "execution_count": null,
   "metadata": {
    "id": "6sQHAZEpVy1x"
   },
   "outputs": [],
   "source": []
  },
  {
   "cell_type": "markdown",
   "metadata": {
    "id": "nSitHsYbdSKV"
   },
   "source": [
    "<h1><center> ************ END OF ASSIGNMENT ****************</center></h1>"
   ]
  }
 ],
 "metadata": {
  "colab": {
   "collapsed_sections": [],
   "name": "dvi-a2-ps8-wb.ipynb",
   "provenance": [
    {
     "file_id": "1NeDTb6dqz2_7DTbFfoNhplvJwTZfN-m0",
     "timestamp": 1644616349958
    },
    {
     "file_id": "11Wuz0dS05u-iqFAGMhnMwFSB51S5Dbk4",
     "timestamp": 1644498551438
    }
   ]
  },
  "kernelspec": {
   "display_name": "Python 3 (ipykernel)",
   "language": "python",
   "name": "python3"
  },
  "language_info": {
   "codemirror_mode": {
    "name": "ipython",
    "version": 3
   },
   "file_extension": ".py",
   "mimetype": "text/x-python",
   "name": "python",
   "nbconvert_exporter": "python",
   "pygments_lexer": "ipython3",
   "version": "3.11.5"
  }
 },
 "nbformat": 4,
 "nbformat_minor": 1
}
